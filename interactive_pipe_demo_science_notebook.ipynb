{
  "nbformat": 4,
  "nbformat_minor": 0,
  "metadata": {
    "colab": {
      "provenance": [],
      "authorship_tag": "ABX9TyPspxOJgLa0BOu3uMiUWfhG",
      "include_colab_link": true
    },
    "kernelspec": {
      "name": "python3",
      "display_name": "Python 3"
    },
    "language_info": {
      "name": "python"
    }
  },
  "cells": [
    {
      "cell_type": "markdown",
      "metadata": {
        "id": "view-in-github",
        "colab_type": "text"
      },
      "source": [
        "<a href=\"https://colab.research.google.com/github/livalgo/interactive-pipe-examples/blob/main/interactive_pipe_demo_science_notebook.ipynb\" target=\"_parent\"><img src=\"https://colab.research.google.com/assets/colab-badge.svg\" alt=\"Open In Colab\"/></a>"
      ]
    },
    {
      "cell_type": "markdown",
      "source": [
        "# ⏯ [`interactive_pipe` website](https://balthazarneveu.github.io/interactive_pipe/)\n",
        "\n",
        "![](https://balthazarneveu.github.io/interactive_pipe/static/interact-pipe-logo-horizontal-rgb.svg)"
      ],
      "metadata": {
        "id": "KfWZI-U85tHN"
      }
    },
    {
      "cell_type": "code",
      "source": [
        "# Mandatory installation.\n",
        "!pip install \"ipywidgets>=7,<8\"\n",
        "!pip install interactive-pipe>=0.7.8"
      ],
      "metadata": {
        "id": "5QeRWgCXAQGR"
      },
      "execution_count": null,
      "outputs": []
    },
    {
      "cell_type": "code",
      "source": [
        "from interactive_pipe.data_objects.curves import Curve, SingleCurve\n",
        "from interactive_pipe import interactive, interactive_pipeline\n",
        "import numpy as np"
      ],
      "metadata": {
        "id": "Ka1uBzoEAXOj"
      },
      "execution_count": null,
      "outputs": []
    },
    {
      "cell_type": "markdown",
      "source": [
        "# Processing blocks definition"
      ],
      "metadata": {
        "id": "PSeHVQJYBZJH"
      }
    },
    {
      "cell_type": "code",
      "execution_count": null,
      "metadata": {
        "id": "aPBOERp8AOnv"
      },
      "outputs": [],
      "source": [
        "@interactive()\n",
        "def sine_wave(\n",
        "    frequency=(1., [0.1, 10.], \"freq [Hz]\"),\n",
        "    phase=(0, [-180, 180], \"phase [°]\"),\n",
        "    global_params={}\n",
        "):\n",
        "    t = np.linspace(0., 1., 100)\n",
        "    s = np.cos(2.*np.pi*frequency*t+np.deg2rad(phase))\n",
        "    global_params[\"freq\"] = frequency\n",
        "    global_params[\"phase\"] = phase\n",
        "    return t, s\n",
        "\n",
        "def get_energy(s: np.ndarray):\n",
        "    return s**2\n",
        "\n",
        "\n",
        "@interactive()\n",
        "def aggregate(t, s, e, global_params={}, grid=(True,)):\n",
        "    frequency = global_params[\"freq\"]\n",
        "    phase = global_params[\"phase\"]\n",
        "    label_sine_wave = f\"sinewave {frequency:.1f}Hz\\nphase={int(phase):d}°\"\n",
        "    return Curve(\n",
        "        [\n",
        "            SingleCurve(x=t, y=s, label=label_sine_wave),\n",
        "            SingleCurve(x=t, y=e, label=\"energy\")\n",
        "        ],\n",
        "    title=\"Energy check\", grid=grid, xlabel=\"\")\n",
        "\n",
        "def generate_image_from_signal(energy):\n",
        "    img = np.ones((128, energy.shape[0], 3))\n",
        "    for ch in range(3):\n",
        "        img[:, :, ch] = energy\n",
        "    return img"
      ]
    },
    {
      "cell_type": "markdown",
      "source": [
        "# Pipeline definition"
      ],
      "metadata": {
        "id": "J2W0xOI5Biv-"
      }
    },
    {
      "cell_type": "code",
      "source": [
        "@interactive_pipeline(gui=\"nb\")\n",
        "def signal_pipe_simplified():\n",
        "    t, s = sine_wave()\n",
        "    e = get_energy(s)\n",
        "    graph = aggregate(t, s, e)\n",
        "    img = generate_image_from_signal(e)\n",
        "    return graph, img"
      ],
      "metadata": {
        "id": "HDvEYj4FBheY"
      },
      "execution_count": null,
      "outputs": []
    },
    {
      "cell_type": "markdown",
      "source": [
        "# Signal and image processing\n",
        "$ y = cos(\\frac{2*\\pi}{T}*t + \\phi)$\n",
        "Where\n",
        "- Frequency $f =\\frac{1}{T}$ in Hz\n",
        "- Phase $\\phi$ expressed as an angle (in radians)"
      ],
      "metadata": {
        "id": "O7jURciLBfcX"
      }
    },
    {
      "cell_type": "code",
      "source": [
        "signal_pipe_simplified();"
      ],
      "metadata": {
        "id": "wkp7T-MvAYqg"
      },
      "execution_count": null,
      "outputs": []
    }
  ]
}