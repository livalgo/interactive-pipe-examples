{
  "nbformat": 4,
  "nbformat_minor": 0,
  "metadata": {
    "colab": {
      "provenance": [],
      "authorship_tag": "ABX9TyMwsUiCmNuRjXRtBwdiNHbm",
      "include_colab_link": true
    },
    "kernelspec": {
      "name": "python3",
      "display_name": "Python 3"
    },
    "language_info": {
      "name": "python"
    },
    "widgets": {
      "application/vnd.jupyter.widget-state+json": {
        "3c06b8622b0c4701bf1d5e192423c8a5": {
          "model_module": "@jupyter-widgets/controls",
          "model_name": "VBoxModel",
          "model_module_version": "1.5.0",
          "state": {
            "_dom_classes": [
              "widget-interact"
            ],
            "_model_module": "@jupyter-widgets/controls",
            "_model_module_version": "1.5.0",
            "_model_name": "VBoxModel",
            "_view_count": null,
            "_view_module": "@jupyter-widgets/controls",
            "_view_module_version": "1.5.0",
            "_view_name": "VBoxView",
            "box_style": "",
            "children": [
              "IPY_MODEL_a51ca0b0960e4fb08cc263723356aebc",
              "IPY_MODEL_1a545dd8035c451cbc9685e35699bb78",
              "IPY_MODEL_57e14bd75cd0442eafbc24d8d6205a87",
              "IPY_MODEL_03f029a70bb545b9a94ffde4866e58da",
              "IPY_MODEL_bac165a3210347c3a56d8dc87545317d"
            ],
            "layout": "IPY_MODEL_0193e0adc3474a1c9f50ceff625c461b"
          }
        },
        "a51ca0b0960e4fb08cc263723356aebc": {
          "model_module": "@jupyter-widgets/controls",
          "model_name": "FloatSliderModel",
          "model_module_version": "1.5.0",
          "state": {
            "_dom_classes": [],
            "_model_module": "@jupyter-widgets/controls",
            "_model_module_version": "1.5.0",
            "_model_name": "FloatSliderModel",
            "_view_count": null,
            "_view_module": "@jupyter-widgets/controls",
            "_view_module_version": "1.5.0",
            "_view_name": "FloatSliderView",
            "continuous_update": true,
            "description": "log10 learning rate",
            "description_tooltip": null,
            "disabled": false,
            "layout": "IPY_MODEL_0a0d69cf47e644a6bdb819e768450f10",
            "max": 0,
            "min": -5,
            "orientation": "horizontal",
            "readout": true,
            "readout_format": ".2f",
            "step": 0.1,
            "style": "IPY_MODEL_b19ed1283ccf453da78620d80c5e1ac1",
            "value": -2
          }
        },
        "1a545dd8035c451cbc9685e35699bb78": {
          "model_module": "@jupyter-widgets/controls",
          "model_name": "IntSliderModel",
          "model_module_version": "1.5.0",
          "state": {
            "_dom_classes": [],
            "_model_module": "@jupyter-widgets/controls",
            "_model_module_version": "1.5.0",
            "_model_name": "IntSliderModel",
            "_view_count": null,
            "_view_module": "@jupyter-widgets/controls",
            "_view_module_version": "1.5.0",
            "_view_name": "IntSliderView",
            "continuous_update": true,
            "description": "seed",
            "description_tooltip": null,
            "disabled": false,
            "layout": "IPY_MODEL_0a0d69cf47e644a6bdb819e768450f10",
            "max": 100,
            "min": 0,
            "orientation": "horizontal",
            "readout": true,
            "readout_format": "d",
            "step": 1,
            "style": "IPY_MODEL_2ee400a091e04476870894a67703a6a5",
            "value": 42
          }
        },
        "57e14bd75cd0442eafbc24d8d6205a87": {
          "model_module": "@jupyter-widgets/controls",
          "model_name": "IntSliderModel",
          "model_module_version": "1.5.0",
          "state": {
            "_dom_classes": [],
            "_model_module": "@jupyter-widgets/controls",
            "_model_module_version": "1.5.0",
            "_model_name": "IntSliderModel",
            "_view_count": null,
            "_view_module": "@jupyter-widgets/controls",
            "_view_module_version": "1.5.0",
            "_view_name": "IntSliderView",
            "continuous_update": true,
            "description": "hidden_dimension",
            "description_tooltip": null,
            "disabled": false,
            "layout": "IPY_MODEL_0a0d69cf47e644a6bdb819e768450f10",
            "max": 10,
            "min": 1,
            "orientation": "horizontal",
            "readout": true,
            "readout_format": "d",
            "step": 1,
            "style": "IPY_MODEL_7625f6dd80924bf5855744b96c91da69",
            "value": 3
          }
        },
        "03f029a70bb545b9a94ffde4866e58da": {
          "model_module": "@jupyter-widgets/controls",
          "model_name": "IntSliderModel",
          "model_module_version": "1.5.0",
          "state": {
            "_dom_classes": [],
            "_model_module": "@jupyter-widgets/controls",
            "_model_module_version": "1.5.0",
            "_model_name": "IntSliderModel",
            "_view_count": null,
            "_view_module": "@jupyter-widgets/controls",
            "_view_module_version": "1.5.0",
            "_view_name": "IntSliderView",
            "continuous_update": true,
            "description": "selected_iteration",
            "description_tooltip": null,
            "disabled": false,
            "layout": "IPY_MODEL_0a0d69cf47e644a6bdb819e768450f10",
            "max": 400,
            "min": 0,
            "orientation": "horizontal",
            "readout": true,
            "readout_format": "d",
            "step": 1,
            "style": "IPY_MODEL_c18b26e8af1f4cc19ae121f649e093c2",
            "value": 315
          }
        },
        "bac165a3210347c3a56d8dc87545317d": {
          "model_module": "@jupyter-widgets/output",
          "model_name": "OutputModel",
          "model_module_version": "1.0.0",
          "state": {
            "_dom_classes": [],
            "_model_module": "@jupyter-widgets/output",
            "_model_module_version": "1.0.0",
            "_model_name": "OutputModel",
            "_view_count": null,
            "_view_module": "@jupyter-widgets/output",
            "_view_module_version": "1.0.0",
            "_view_name": "OutputView",
            "layout": "IPY_MODEL_acd8738408fd4370a33753ed36d9bd70",
            "msg_id": "",
            "outputs": [
              {
                "output_type": "display_data",
                "data": {
                  "text/plain": "<Figure size 640x480 with 3 Axes>",
                  "image/png": "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\n"
                },
                "metadata": {}
              }
            ]
          }
        },
        "0193e0adc3474a1c9f50ceff625c461b": {
          "model_module": "@jupyter-widgets/base",
          "model_name": "LayoutModel",
          "model_module_version": "1.2.0",
          "state": {
            "_model_module": "@jupyter-widgets/base",
            "_model_module_version": "1.2.0",
            "_model_name": "LayoutModel",
            "_view_count": null,
            "_view_module": "@jupyter-widgets/base",
            "_view_module_version": "1.2.0",
            "_view_name": "LayoutView",
            "align_content": null,
            "align_items": null,
            "align_self": null,
            "border": null,
            "bottom": null,
            "display": null,
            "flex": null,
            "flex_flow": null,
            "grid_area": null,
            "grid_auto_columns": null,
            "grid_auto_flow": null,
            "grid_auto_rows": null,
            "grid_column": null,
            "grid_gap": null,
            "grid_row": null,
            "grid_template_areas": null,
            "grid_template_columns": null,
            "grid_template_rows": null,
            "height": null,
            "justify_content": null,
            "justify_items": null,
            "left": null,
            "margin": null,
            "max_height": null,
            "max_width": null,
            "min_height": null,
            "min_width": null,
            "object_fit": null,
            "object_position": null,
            "order": null,
            "overflow": null,
            "overflow_x": null,
            "overflow_y": null,
            "padding": null,
            "right": null,
            "top": null,
            "visibility": null,
            "width": null
          }
        },
        "0a0d69cf47e644a6bdb819e768450f10": {
          "model_module": "@jupyter-widgets/base",
          "model_name": "LayoutModel",
          "model_module_version": "1.2.0",
          "state": {
            "_model_module": "@jupyter-widgets/base",
            "_model_module_version": "1.2.0",
            "_model_name": "LayoutModel",
            "_view_count": null,
            "_view_module": "@jupyter-widgets/base",
            "_view_module_version": "1.2.0",
            "_view_name": "LayoutView",
            "align_content": null,
            "align_items": null,
            "align_self": null,
            "border": null,
            "bottom": null,
            "display": null,
            "flex": null,
            "flex_flow": null,
            "grid_area": null,
            "grid_auto_columns": null,
            "grid_auto_flow": null,
            "grid_auto_rows": null,
            "grid_column": null,
            "grid_gap": null,
            "grid_row": null,
            "grid_template_areas": null,
            "grid_template_columns": null,
            "grid_template_rows": null,
            "height": null,
            "justify_content": null,
            "justify_items": null,
            "left": null,
            "margin": null,
            "max_height": null,
            "max_width": null,
            "min_height": null,
            "min_width": null,
            "object_fit": null,
            "object_position": null,
            "order": null,
            "overflow": null,
            "overflow_x": null,
            "overflow_y": null,
            "padding": null,
            "right": null,
            "top": null,
            "visibility": null,
            "width": "500px"
          }
        },
        "b19ed1283ccf453da78620d80c5e1ac1": {
          "model_module": "@jupyter-widgets/controls",
          "model_name": "SliderStyleModel",
          "model_module_version": "1.5.0",
          "state": {
            "_model_module": "@jupyter-widgets/controls",
            "_model_module_version": "1.5.0",
            "_model_name": "SliderStyleModel",
            "_view_count": null,
            "_view_module": "@jupyter-widgets/base",
            "_view_module_version": "1.2.0",
            "_view_name": "StyleView",
            "description_width": "initial",
            "handle_color": null
          }
        },
        "2ee400a091e04476870894a67703a6a5": {
          "model_module": "@jupyter-widgets/controls",
          "model_name": "SliderStyleModel",
          "model_module_version": "1.5.0",
          "state": {
            "_model_module": "@jupyter-widgets/controls",
            "_model_module_version": "1.5.0",
            "_model_name": "SliderStyleModel",
            "_view_count": null,
            "_view_module": "@jupyter-widgets/base",
            "_view_module_version": "1.2.0",
            "_view_name": "StyleView",
            "description_width": "initial",
            "handle_color": null
          }
        },
        "7625f6dd80924bf5855744b96c91da69": {
          "model_module": "@jupyter-widgets/controls",
          "model_name": "SliderStyleModel",
          "model_module_version": "1.5.0",
          "state": {
            "_model_module": "@jupyter-widgets/controls",
            "_model_module_version": "1.5.0",
            "_model_name": "SliderStyleModel",
            "_view_count": null,
            "_view_module": "@jupyter-widgets/base",
            "_view_module_version": "1.2.0",
            "_view_name": "StyleView",
            "description_width": "initial",
            "handle_color": null
          }
        },
        "c18b26e8af1f4cc19ae121f649e093c2": {
          "model_module": "@jupyter-widgets/controls",
          "model_name": "SliderStyleModel",
          "model_module_version": "1.5.0",
          "state": {
            "_model_module": "@jupyter-widgets/controls",
            "_model_module_version": "1.5.0",
            "_model_name": "SliderStyleModel",
            "_view_count": null,
            "_view_module": "@jupyter-widgets/base",
            "_view_module_version": "1.2.0",
            "_view_name": "StyleView",
            "description_width": "initial",
            "handle_color": null
          }
        },
        "acd8738408fd4370a33753ed36d9bd70": {
          "model_module": "@jupyter-widgets/base",
          "model_name": "LayoutModel",
          "model_module_version": "1.2.0",
          "state": {
            "_model_module": "@jupyter-widgets/base",
            "_model_module_version": "1.2.0",
            "_model_name": "LayoutModel",
            "_view_count": null,
            "_view_module": "@jupyter-widgets/base",
            "_view_module_version": "1.2.0",
            "_view_name": "LayoutView",
            "align_content": null,
            "align_items": null,
            "align_self": null,
            "border": null,
            "bottom": null,
            "display": null,
            "flex": null,
            "flex_flow": null,
            "grid_area": null,
            "grid_auto_columns": null,
            "grid_auto_flow": null,
            "grid_auto_rows": null,
            "grid_column": null,
            "grid_gap": null,
            "grid_row": null,
            "grid_template_areas": null,
            "grid_template_columns": null,
            "grid_template_rows": null,
            "height": null,
            "justify_content": null,
            "justify_items": null,
            "left": null,
            "margin": null,
            "max_height": null,
            "max_width": null,
            "min_height": null,
            "min_width": null,
            "object_fit": null,
            "object_position": null,
            "order": null,
            "overflow": null,
            "overflow_x": null,
            "overflow_y": null,
            "padding": null,
            "right": null,
            "top": null,
            "visibility": null,
            "width": null
          }
        }
      }
    }
  },
  "cells": [
    {
      "cell_type": "markdown",
      "metadata": {
        "id": "view-in-github",
        "colab_type": "text"
      },
      "source": [
        "<a href=\"https://colab.research.google.com/github/livalgo/interactive-pipe-examples/blob/main/interactive_pipe_cache_curves_MLP_regression.ipynb\" target=\"_parent\"><img src=\"https://colab.research.google.com/assets/colab-badge.svg\" alt=\"Open In Colab\"/></a>"
      ]
    },
    {
      "cell_type": "markdown",
      "source": [
        "# ⏯ [`interactive_pipe` website](https://balthazarneveu.github.io/interactive_pipe/)\n",
        "\n",
        "![](https://balthazarneveu.github.io/interactive_pipe/static/interact-pipe-logo-horizontal-rgb.svg)\n",
        "\n",
        "\n",
        "# Full tutorial on curves and cache mechanism\n",
        "\n",
        "**Note** : The same tutorial is also available on [🤗 HF spaces](https://huggingface.co/spaces/balthou/interactive-pipe-neural-networks-and-curves)"
      ],
      "metadata": {
        "id": "BnsrOxNa8t0d"
      }
    },
    {
      "cell_type": "code",
      "source": [
        "# Mandatory installation.\n",
        "!pip install \"ipywidgets>=7,<8\"\n",
        "!pip install interactive-pipe>=0.7.8"
      ],
      "metadata": {
        "collapsed": true,
        "id": "kUTXW2iN8zoN"
      },
      "execution_count": null,
      "outputs": []
    },
    {
      "cell_type": "code",
      "source": [
        "import torch\n",
        "from copy import deepcopy\n",
        "from interactive_pipe import (\n",
        "    interactive, interactive_pipeline,\n",
        "    Curve, SingleCurve\n",
        ")\n",
        "import argparse\n",
        "import numpy as np\n",
        "from interactive_pipe.helper import _private"
      ],
      "metadata": {
        "id": "9iIC449e9Od5"
      },
      "execution_count": 2,
      "outputs": []
    },
    {
      "cell_type": "markdown",
      "source": [
        "# Cache mechanism\n",
        "- Required to avoid performing \"model training\" (even if small).\n",
        "- Save epochs results into `context`, plot inference without re-performing training."
      ],
      "metadata": {
        "id": "QNm87U64882s"
      }
    },
    {
      "cell_type": "code",
      "execution_count": 8,
      "metadata": {
        "id": "7H1TDtpO8Ias"
      },
      "outputs": [],
      "source": [
        "_private.registered_controls_names = [] # this is for notebooks where you re-execute cells everytime.\n",
        "\n",
        "# ⚠️ Using the cache mechanism is mandatory for this example...\n",
        "\n",
        "# --------------------------------\n",
        "# . Processing blocks definition .\n",
        "# --------------------------------\n",
        "SAVE_FREQUENCY = 10\n",
        "\n",
        "\n",
        "@interactive(\n",
        "    lr=(-2., [-5., 0.], \"log10 learning rate\"),\n",
        "    seed=(42, [0, 100]),\n",
        ")\n",
        "def set_learning_rate(lr: float = -3, seed=42, context: dict = {}):\n",
        "    context[\"lr\"] = 10.**lr\n",
        "    torch.manual_seed(seed)\n",
        "\n",
        "\n",
        "@interactive(\n",
        "    hidden_dimension=(3, [1, 10])\n",
        ")\n",
        "def define_network(seed: int = 42, hidden_dimension=2, context: dict = {}):\n",
        "\n",
        "    context[\"model\"] = torch.nn.Sequential(\n",
        "        torch.nn.Linear(1, hidden_dimension),\n",
        "        torch.nn.ReLU(),\n",
        "        torch.nn.Linear(hidden_dimension, 1)\n",
        "    )\n",
        "\n",
        "\n",
        "def get_input_points() -> torch.Tensor:\n",
        "    return torch.linspace(-1, 1, 100)[:, None]\n",
        "\n",
        "\n",
        "def target_function(x: torch.Tensor) -> torch.Tensor:\n",
        "    return torch.abs(x-0.3) + (x+0.3)**2 - 1.\n",
        "\n",
        "\n",
        "def fit_model(\n",
        "    x: torch.Tensor,\n",
        "    y: torch.Tensor,\n",
        "    context: dict = {},\n",
        ") -> np.ndarray:\n",
        "    saved_models = {}\n",
        "    model = context['model']\n",
        "    losses = []\n",
        "    criterion = torch.nn.MSELoss()\n",
        "    optimizer = torch.optim.Adam(\n",
        "        model.parameters(), lr=context.get(\"lr\", 0.01))\n",
        "    # Let's keep the model every 10 / 100 iterations!\n",
        "    # This optimization loop will be cached by the interactive pipeline\n",
        "    # and not recomputed at each call of the pipeline.\n",
        "    # (unless you change the hidden layer dimension for instance)\n",
        "    # We'll visualize the loss evolution and the fitting result afterwards.\n",
        "    for epoch in range(401):\n",
        "        if epoch % SAVE_FREQUENCY == 0:\n",
        "            saved_models[epoch] = deepcopy(model.state_dict())\n",
        "        optimizer.zero_grad()\n",
        "        output = model(x)\n",
        "        loss = criterion(output, y)\n",
        "        loss.backward()\n",
        "        losses.append(loss.item())\n",
        "        optimizer.step()\n",
        "    context['saved_models'] = saved_models\n",
        "    return np.array(losses)\n",
        "\n",
        "\n",
        "@interactive(selected_iteration=(100, [0, 400]))\n",
        "def select_iteration(context: dict = {}, selected_iteration: int = 0):\n",
        "    context[\"selected_iteration\"] = selected_iteration\n",
        "    # dedicated interactive block to select the iteration\n",
        "    # as 2 later blocks (plot_prediction_curve & ) will depend on this value.\n",
        "\n",
        "\n",
        "def plot_prediction_curve(\n",
        "    context: dict = {},\n",
        ") -> SingleCurve:\n",
        "    iter = np.round(context.get(\"selected_iteration\", 0) /\n",
        "                    SAVE_FREQUENCY) * SAVE_FREQUENCY\n",
        "    model = context['model']\n",
        "    model.load_state_dict(context['saved_models'][iter])\n",
        "    inp = torch.linspace(-2, 2, 100)[:, None]\n",
        "    out = model(inp).detach().numpy()\n",
        "    pred = SingleCurve(\n",
        "        x=inp.numpy(),\n",
        "        y=out,\n",
        "        style=\".r\",\n",
        "        label=f\"Fit - Iteration {iter}\"\n",
        "    )\n",
        "    return pred\n",
        "\n",
        "\n",
        "def plot_target_curve(x: torch.Tensor, y: torch.Tensor) -> SingleCurve:\n",
        "    target = SingleCurve(\n",
        "        x=x,\n",
        "        y=y.detach(),\n",
        "        style=\"b\",\n",
        "        linestyle='-',\n",
        "        label=\"Target\"\n",
        "    )\n",
        "    return target\n",
        "\n",
        "\n",
        "def plot_loss(losses: np.ndarray, context={}) -> Curve:\n",
        "    iter = context.get(\"selected_iteration\", 0)\n",
        "    return Curve([\n",
        "        SingleCurve(\n",
        "            x=range(len(losses)),\n",
        "            y=losses,\n",
        "            style=\"g\",\n",
        "            label=f\"Loss {losses[iter]:.4f}\"\n",
        "        ),\n",
        "        SingleCurve(\n",
        "            x=[iter]*2,\n",
        "            y=[0, losses[iter]],\n",
        "            style=\"ro\",\n",
        "            linestyle=\"-\",\n",
        "            label=f\"Selected iteration = {iter} \"\n",
        "        )\n",
        "    ],\n",
        "        grid=True,\n",
        "        title=f\"Loss evolution lr={context['lr']:.4f}\"\n",
        "    )\n",
        "\n",
        "\n",
        "def compare_curves(pred, target):\n",
        "    return Curve(\n",
        "        [pred, target],\n",
        "        xlim=(-2, 2),\n",
        "        ylim=(-1, 2),\n",
        "        grid=True,\n",
        "        title=\"Fitting result\"\n",
        "    )\n",
        "\n",
        "# -----------------------\n",
        "# . Pipeline definition .\n",
        "# -----------------------\n",
        "\n",
        "\n",
        "def visualize_regression_of_a_neural_network():\n",
        "    x = get_input_points()\n",
        "    y = target_function(x)\n",
        "    target_curve = plot_target_curve(x, y)\n",
        "    set_learning_rate()\n",
        "    define_network()\n",
        "    losses = fit_model(x, y)\n",
        "    select_iteration()\n",
        "    losses_curve = plot_loss(losses)\n",
        "    prediction_curve = plot_prediction_curve()\n",
        "\n",
        "    output_fit = compare_curves(prediction_curve, target_curve)\n",
        "    return [output_fit, losses_curve]\n"
      ]
    },
    {
      "cell_type": "code",
      "source": [
        "headless_pipe = interactive_pipeline(gui=None)(visualize_regression_of_a_neural_network)\n",
        "headless_pipe.graph_representation(ortho=False)"
      ],
      "metadata": {
        "colab": {
          "base_uri": "https://localhost:8080/",
          "height": 668
        },
        "id": "PxMLZpMdBYPF",
        "outputId": "c30d0284-09d0-4025-88b9-5e0f6025f5b4"
      },
      "execution_count": 18,
      "outputs": [
        {
          "output_type": "execute_result",
          "data": {
            "image/svg+xml": "<?xml version=\"1.0\" encoding=\"UTF-8\" standalone=\"no\"?>\n<!DOCTYPE svg PUBLIC \"-//W3C//DTD SVG 1.1//EN\"\n \"http://www.w3.org/Graphics/SVG/1.1/DTD/svg11.dtd\">\n<!-- Generated by graphviz version 2.43.0 (0)\n -->\n<!-- Title: %3 Pages: 1 -->\n<svg width=\"614pt\" height=\"485pt\"\n viewBox=\"0.00 0.00 614.00 485.00\" xmlns=\"http://www.w3.org/2000/svg\" xmlns:xlink=\"http://www.w3.org/1999/xlink\">\n<g id=\"graph0\" class=\"graph\" transform=\"scale(1 1) rotate(0) translate(4 481)\">\n<title>%3</title>\n<polygon fill=\"white\" stroke=\"transparent\" points=\"-4,4 -4,-481 610,-481 610,4 -4,4\"/>\n<g id=\"clust2\" class=\"cluster\">\n<title>cluster_filters</title>\n<polygon fill=\"none\" stroke=\"gray\" stroke-dasharray=\"5,2\" points=\"8,-116 8,-469 598,-469 598,-116 8,-116\"/>\n<text text-anchor=\"middle\" x=\"303\" y=\"-453.8\" font-family=\"Times,serif\" font-size=\"14.00\">visualize_regression_of_a_neural_network</text>\n</g>\n<g id=\"clust3\" class=\"cluster\">\n<title>cluster_out</title>\n<polygon fill=\"none\" stroke=\"gray\" stroke-dasharray=\"5,2\" points=\"178,-8 178,-83 414,-83 414,-8 178,-8\"/>\n<text text-anchor=\"middle\" x=\"296\" y=\"-67.8\" font-family=\"Times,serif\" font-size=\"14.00\">Outputs</text>\n</g>\n<!-- get_input_points -->\n<g id=\"node1\" class=\"node\">\n<title>get_input_points</title>\n<polygon fill=\"none\" stroke=\"black\" points=\"589.5,-429.5 464.5,-429.5 464.5,-393.5 589.5,-393.5 589.5,-429.5\"/>\n<text text-anchor=\"middle\" x=\"527\" y=\"-407.8\" font-family=\"Times,serif\" font-size=\"14.00\">⚙️ get_input_points</text>\n</g>\n<!-- target_function -->\n<g id=\"node2\" class=\"node\">\n<title>target_function</title>\n<polygon fill=\"none\" stroke=\"black\" points=\"490.5,-334 373.5,-334 373.5,-298 490.5,-298 490.5,-334\"/>\n<text text-anchor=\"middle\" x=\"432\" y=\"-312.3\" font-family=\"Times,serif\" font-size=\"14.00\">⚙️ target_function</text>\n</g>\n<!-- get_input_points&#45;&gt;target_function -->\n<g id=\"edge1\" class=\"edge\">\n<title>get_input_points&#45;&gt;target_function</title>\n<path fill=\"none\" stroke=\"black\" d=\"M509.58,-393.35C494.71,-378.72 473.17,-357.52 456.56,-341.17\"/>\n<polygon fill=\"black\" stroke=\"black\" points=\"458.9,-338.56 449.31,-334.04 453.99,-343.55 458.9,-338.56\"/>\n<text text-anchor=\"middle\" x=\"490\" y=\"-355.8\" font-family=\"Times,serif\" font-size=\"14.00\">[x]</text>\n</g>\n<!-- plot_target_curve -->\n<g id=\"node3\" class=\"node\">\n<title>plot_target_curve</title>\n<polygon fill=\"none\" stroke=\"black\" points=\"590,-247 460,-247 460,-211 590,-211 590,-247\"/>\n<text text-anchor=\"middle\" x=\"525\" y=\"-225.3\" font-family=\"Times,serif\" font-size=\"14.00\">⚙️ plot_target_curve</text>\n</g>\n<!-- get_input_points&#45;&gt;plot_target_curve -->\n<g id=\"edge2\" class=\"edge\">\n<title>get_input_points&#45;&gt;plot_target_curve</title>\n<path fill=\"none\" stroke=\"black\" d=\"M526.81,-393.19C526.46,-361.79 525.72,-295.2 525.3,-257.51\"/>\n<polygon fill=\"black\" stroke=\"black\" points=\"528.8,-257.22 525.19,-247.25 521.8,-257.29 528.8,-257.22\"/>\n<text text-anchor=\"middle\" x=\"534\" y=\"-312.3\" font-family=\"Times,serif\" font-size=\"14.00\">[x]</text>\n</g>\n<!-- fit_model -->\n<g id=\"node4\" class=\"node\">\n<title>fit_model</title>\n<polygon fill=\"none\" stroke=\"black\" points=\"270,-247 182,-247 182,-211 270,-211 270,-247\"/>\n<text text-anchor=\"middle\" x=\"226\" y=\"-225.3\" font-family=\"Times,serif\" font-size=\"14.00\">⚙️ fit_model</text>\n</g>\n<!-- get_input_points&#45;&gt;fit_model -->\n<g id=\"edge4\" class=\"edge\">\n<title>get_input_points&#45;&gt;fit_model</title>\n<path fill=\"none\" stroke=\"black\" d=\"M483.24,-393.42C438.51,-375.66 372.39,-348.46 349,-334 311.82,-311 274.18,-277.31 250.51,-254.56\"/>\n<polygon fill=\"black\" stroke=\"black\" points=\"252.65,-251.76 243.04,-247.3 247.77,-256.78 252.65,-251.76\"/>\n<text text-anchor=\"middle\" x=\"357\" y=\"-312.3\" font-family=\"Times,serif\" font-size=\"14.00\">[x]</text>\n</g>\n<!-- target_function&#45;&gt;plot_target_curve -->\n<g id=\"edge3\" class=\"edge\">\n<title>target_function&#45;&gt;plot_target_curve</title>\n<path fill=\"none\" stroke=\"black\" d=\"M450.82,-297.8C464.56,-285.24 483.37,-268.05 498.61,-254.12\"/>\n<polygon fill=\"black\" stroke=\"black\" points=\"501.19,-256.51 506.21,-247.18 496.47,-251.34 501.19,-256.51\"/>\n<text text-anchor=\"middle\" x=\"492\" y=\"-268.8\" font-family=\"Times,serif\" font-size=\"14.00\">[y]</text>\n</g>\n<!-- target_function&#45;&gt;fit_model -->\n<g id=\"edge5\" class=\"edge\">\n<title>target_function&#45;&gt;fit_model</title>\n<path fill=\"none\" stroke=\"black\" d=\"M390.31,-297.8C357.54,-284.27 311.74,-265.38 276.81,-250.97\"/>\n<polygon fill=\"black\" stroke=\"black\" points=\"277.85,-247.61 267.27,-247.03 275.18,-254.08 277.85,-247.61\"/>\n<text text-anchor=\"middle\" x=\"349\" y=\"-268.8\" font-family=\"Times,serif\" font-size=\"14.00\">[y]</text>\n</g>\n<!-- compare_curves -->\n<g id=\"node7\" class=\"node\">\n<title>compare_curves</title>\n<polygon fill=\"none\" stroke=\"black\" points=\"427,-160 303,-160 303,-124 427,-124 427,-160\"/>\n<text text-anchor=\"middle\" x=\"365\" y=\"-138.3\" font-family=\"Times,serif\" font-size=\"14.00\">⚙️ compare_curves</text>\n</g>\n<!-- plot_target_curve&#45;&gt;compare_curves -->\n<g id=\"edge8\" class=\"edge\">\n<title>plot_target_curve&#45;&gt;compare_curves</title>\n<path fill=\"none\" stroke=\"black\" d=\"M509.6,-210.71C499.29,-200.03 484.92,-186.74 470,-178 459.7,-171.97 448.22,-166.8 436.73,-162.44\"/>\n<polygon fill=\"black\" stroke=\"black\" points=\"437.71,-159.07 427.11,-158.96 435.33,-165.65 437.71,-159.07\"/>\n<text text-anchor=\"middle\" x=\"527.5\" y=\"-181.8\" font-family=\"Times,serif\" font-size=\"14.00\">[target_curve]</text>\n</g>\n<!-- plot_loss -->\n<g id=\"node5\" class=\"node\">\n<title>plot_loss</title>\n<polygon fill=\"none\" stroke=\"black\" points=\"276.5,-160 193.5,-160 193.5,-124 276.5,-124 276.5,-160\"/>\n<text text-anchor=\"middle\" x=\"235\" y=\"-138.3\" font-family=\"Times,serif\" font-size=\"14.00\">⚙️ plot_loss</text>\n</g>\n<!-- fit_model&#45;&gt;plot_loss -->\n<g id=\"edge6\" class=\"edge\">\n<title>fit_model&#45;&gt;plot_loss</title>\n<path fill=\"none\" stroke=\"black\" d=\"M227.82,-210.8C229.05,-199.16 230.71,-183.55 232.12,-170.24\"/>\n<polygon fill=\"black\" stroke=\"black\" points=\"235.61,-170.49 233.18,-160.18 228.65,-169.75 235.61,-170.49\"/>\n<text text-anchor=\"middle\" x=\"252\" y=\"-181.8\" font-family=\"Times,serif\" font-size=\"14.00\">[losses]</text>\n</g>\n<!-- out losses_curve -->\n<g id=\"node12\" class=\"node\">\n<title>out losses_curve</title>\n<polygon fill=\"none\" stroke=\"gray\" points=\"295.5,-52 186.5,-52 186.5,-16 295.5,-16 295.5,-52\"/>\n<text text-anchor=\"middle\" x=\"241\" y=\"-30.3\" font-family=\"Times,serif\" font-size=\"14.00\">🛢️ losses_curve</text>\n</g>\n<!-- plot_loss&#45;&gt;out losses_curve -->\n<g id=\"edge10\" class=\"edge\">\n<title>plot_loss&#45;&gt;out losses_curve</title>\n<path fill=\"none\" stroke=\"black\" d=\"M235.96,-123.97C236.9,-107.38 238.35,-81.88 239.45,-62.43\"/>\n<polygon fill=\"black\" stroke=\"black\" points=\"242.95,-62.52 240.02,-52.34 235.96,-62.13 242.95,-62.52\"/>\n<text text-anchor=\"middle\" x=\"276.5\" y=\"-94.8\" font-family=\"Times,serif\" font-size=\"14.00\">[losses_curve]</text>\n</g>\n<!-- plot_prediction_curve -->\n<g id=\"node6\" class=\"node\">\n<title>plot_prediction_curve</title>\n<polygon fill=\"none\" stroke=\"black\" points=\"442,-247 288,-247 288,-211 442,-211 442,-247\"/>\n<text text-anchor=\"middle\" x=\"365\" y=\"-225.3\" font-family=\"Times,serif\" font-size=\"14.00\">⚙️ plot_prediction_curve</text>\n</g>\n<!-- plot_prediction_curve&#45;&gt;compare_curves -->\n<g id=\"edge7\" class=\"edge\">\n<title>plot_prediction_curve&#45;&gt;compare_curves</title>\n<path fill=\"none\" stroke=\"black\" d=\"M365,-210.8C365,-199.16 365,-183.55 365,-170.24\"/>\n<polygon fill=\"black\" stroke=\"black\" points=\"368.5,-170.18 365,-160.18 361.5,-170.18 368.5,-170.18\"/>\n<text text-anchor=\"middle\" x=\"415.5\" y=\"-181.8\" font-family=\"Times,serif\" font-size=\"14.00\">[prediction_curve]</text>\n</g>\n<!-- out output_fit -->\n<g id=\"node11\" class=\"node\">\n<title>out output_fit</title>\n<polygon fill=\"none\" stroke=\"gray\" points=\"406.5,-52 313.5,-52 313.5,-16 406.5,-16 406.5,-52\"/>\n<text text-anchor=\"middle\" x=\"360\" y=\"-30.3\" font-family=\"Times,serif\" font-size=\"14.00\">🛢️ output_fit</text>\n</g>\n<!-- compare_curves&#45;&gt;out output_fit -->\n<g id=\"edge9\" class=\"edge\">\n<title>compare_curves&#45;&gt;out output_fit</title>\n<path fill=\"none\" stroke=\"black\" d=\"M364.2,-123.97C363.41,-107.38 362.21,-81.88 361.29,-62.43\"/>\n<polygon fill=\"black\" stroke=\"black\" points=\"364.79,-62.16 360.82,-52.34 357.79,-62.49 364.79,-62.16\"/>\n<text text-anchor=\"middle\" x=\"394.5\" y=\"-94.8\" font-family=\"Times,serif\" font-size=\"14.00\">[output_fit]</text>\n</g>\n<!-- set_learning_rate -->\n<g id=\"node8\" class=\"node\">\n<title>set_learning_rate</title>\n<polygon fill=\"none\" stroke=\"black\" points=\"446,-438 318,-438 318,-385 446,-385 446,-438\"/>\n<text text-anchor=\"middle\" x=\"382\" y=\"-422.8\" font-family=\"Times,serif\" font-size=\"14.00\">⚙️ set_learning_rate</text>\n<text text-anchor=\"middle\" x=\"382\" y=\"-407.8\" font-family=\"Times,serif\" font-size=\"14.00\">✔️ lr</text>\n<text text-anchor=\"middle\" x=\"382\" y=\"-392.8\" font-family=\"Times,serif\" font-size=\"14.00\">✔️ seed</text>\n</g>\n<!-- define_network -->\n<g id=\"node9\" class=\"node\">\n<title>define_network</title>\n<polygon fill=\"none\" stroke=\"black\" points=\"299.5,-438 164.5,-438 164.5,-385 299.5,-385 299.5,-438\"/>\n<text text-anchor=\"middle\" x=\"232\" y=\"-422.8\" font-family=\"Times,serif\" font-size=\"14.00\">⚙️ define_network</text>\n<text text-anchor=\"middle\" x=\"232\" y=\"-407.8\" font-family=\"Times,serif\" font-size=\"14.00\">✔️ seed</text>\n<text text-anchor=\"middle\" x=\"232\" y=\"-392.8\" font-family=\"Times,serif\" font-size=\"14.00\">✔️ hidden_dimension</text>\n</g>\n<!-- select_iteration -->\n<g id=\"node10\" class=\"node\">\n<title>select_iteration</title>\n<polygon fill=\"none\" stroke=\"black\" points=\"146,-430.5 16,-430.5 16,-392.5 146,-392.5 146,-430.5\"/>\n<text text-anchor=\"middle\" x=\"81\" y=\"-415.3\" font-family=\"Times,serif\" font-size=\"14.00\">⚙️ select_iteration</text>\n<text text-anchor=\"middle\" x=\"81\" y=\"-400.3\" font-family=\"Times,serif\" font-size=\"14.00\">✔️ selected_iteration</text>\n</g>\n</g>\n</svg>\n",
            "text/plain": [
              "<graphviz.graphs.Digraph at 0x7dfd7e3531c0>"
            ]
          },
          "metadata": {},
          "execution_count": 18
        }
      ]
    },
    {
      "cell_type": "code",
      "source": [
        "interactive_pipeline(\n",
        "    gui=\"nb\",\n",
        "    cache=True,\n",
        ")(visualize_regression_of_a_neural_network)();"
      ],
      "metadata": {
        "colab": {
          "base_uri": "https://localhost:8080/",
          "height": 1000,
          "referenced_widgets": [
            "3c06b8622b0c4701bf1d5e192423c8a5",
            "a51ca0b0960e4fb08cc263723356aebc",
            "1a545dd8035c451cbc9685e35699bb78",
            "57e14bd75cd0442eafbc24d8d6205a87",
            "03f029a70bb545b9a94ffde4866e58da",
            "bac165a3210347c3a56d8dc87545317d",
            "0193e0adc3474a1c9f50ceff625c461b",
            "0a0d69cf47e644a6bdb819e768450f10",
            "b19ed1283ccf453da78620d80c5e1ac1",
            "2ee400a091e04476870894a67703a6a5",
            "7625f6dd80924bf5855744b96c91da69",
            "c18b26e8af1f4cc19ae121f649e093c2",
            "acd8738408fd4370a33753ed36d9bd70"
          ]
        },
        "id": "kMIXMf4G-vdJ",
        "outputId": "78f913a2-2621-48db-be22-5b18c4438eb1"
      },
      "execution_count": 10,
      "outputs": [
        {
          "output_type": "display_data",
          "data": {
            "text/plain": [
              "interactive(children=(FloatSlider(value=-2.0, description='log10 learning rate', layout=Layout(width='500px'),…"
            ],
            "application/vnd.jupyter.widget-view+json": {
              "version_major": 2,
              "version_minor": 0,
              "model_id": "3c06b8622b0c4701bf1d5e192423c8a5"
            }
          },
          "metadata": {}
        },
        {
          "output_type": "display_data",
          "data": {
            "text/plain": [
              "<Figure size 640x480 with 3 Axes>"
            ],
            "image/png": "[encoded data removed]"
          },
          "metadata": {}
        }
      ]
    }
  ]
}